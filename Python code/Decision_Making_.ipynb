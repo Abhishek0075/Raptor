{
  "nbformat": 4,
  "nbformat_minor": 0,
  "metadata": {
    "colab": {
      "name": "Decision Making .ipynb",
      "provenance": [],
      "collapsed_sections": []
    },
    "kernelspec": {
      "name": "python3",
      "display_name": "Python 3"
    },
    "language_info": {
      "name": "python"
    }
  },
  "cells": [
    {
      "cell_type": "markdown",
      "source": [
        "# Biggest of two numbers"
      ],
      "metadata": {
        "id": "kpt9N9LMHvWS"
      }
    },
    {
      "cell_type": "code",
      "execution_count": null,
      "metadata": {
        "id": "frYlxPtxwoQc",
        "colab": {
          "base_uri": "https://localhost:8080/"
        },
        "outputId": "1faefa19-742b-4ce1-f620-c85421de90bd"
      },
      "outputs": [
        {
          "output_type": "stream",
          "name": "stdout",
          "text": [
            "Enter a number : 12\n",
            "Enter a number : 13\n",
            "Biggest is :  13\n"
          ]
        }
      ],
      "source": [
        "a=int(input(\"Enter a number : \"))\n",
        "b=int(input(\"Enter a number : \"))\n",
        "if a>b:\n",
        "  print(\"Biggest is : \",a)\n",
        "else :\n",
        "  print(\"Biggest is : \",b)\n"
      ]
    },
    {
      "cell_type": "markdown",
      "source": [
        "# Smallest of three"
      ],
      "metadata": {
        "id": "Y1ed-benIM6U"
      }
    },
    {
      "cell_type": "code",
      "source": [
        "a=int(input(\"Enter a number : \"))\n",
        "b=int(input(\"Enter a number : \"))\n",
        "c=int(input(\"Enter a number : \"))\n",
        "if a>b:\n",
        "  if a>c:\n",
        "    print(\"Biggest is : \",a)\n",
        "  elif c>b:\n",
        "    print(\"Biggest is : \",c)\n",
        "else:\n",
        "  print(\"Biggest is : \",b)\n"
      ],
      "metadata": {
        "colab": {
          "base_uri": "https://localhost:8080/"
        },
        "id": "jWqM_hi8IROI",
        "outputId": "6164c0db-b42e-4519-ad11-3d0ed81d42e8"
      },
      "execution_count": null,
      "outputs": [
        {
          "output_type": "stream",
          "name": "stdout",
          "text": [
            "Enter a number : 12\n",
            "Enter a number : 13\n",
            "Enter a number : 14\n",
            "Biggest is :  13\n"
          ]
        }
      ]
    },
    {
      "cell_type": "markdown",
      "source": [
        "## Distance between two points on  a number line(without decision making)"
      ],
      "metadata": {
        "id": "P13G8lcVLmVw"
      }
    },
    {
      "cell_type": "code",
      "source": [
        "a=int(input(\"Enter a number : \"))\n",
        "b=int(input(\"Enter a number : \"))\n",
        "dis=abs(a-b)\n",
        "print(\"Distance between the points is : \",dis)\n"
      ],
      "metadata": {
        "colab": {
          "base_uri": "https://localhost:8080/"
        },
        "id": "kArSbvY_L-Sp",
        "outputId": "c416c50c-ec28-4008-8db0-81e4314a9f69"
      },
      "execution_count": null,
      "outputs": [
        {
          "output_type": "stream",
          "name": "stdout",
          "text": [
            "Enter a number : -5\n",
            "Enter a number : 10\n",
            "Distance between the points is :  15\n"
          ]
        }
      ]
    },
    {
      "cell_type": "markdown",
      "source": [
        "# Distance between two points on  a number line(with decision making)"
      ],
      "metadata": {
        "id": "ZbZ9p7EaNAix"
      }
    },
    {
      "cell_type": "code",
      "source": [
        "a=int(input(\"Enter a number : \"))\n",
        "b=int(input(\"Enter a number : \"))\n",
        "dis=a-b\n",
        "if dis<0:\n",
        "  dis=dis*(-1)\n",
        "  print(\"Distance between the points is : \",dis)\n",
        "elif dis==0:\n",
        "  dis=0\n",
        "  print(\"Distance between the points is : \",dis)\n",
        "else :\n",
        "  print(\"Distance between the points is : \",dis)\n"
      ],
      "metadata": {
        "colab": {
          "base_uri": "https://localhost:8080/"
        },
        "id": "JKyqgNCQNAK3",
        "outputId": "43bfdfd4-cca7-465e-bbd1-e287c4730d1e"
      },
      "execution_count": null,
      "outputs": [
        {
          "output_type": "stream",
          "name": "stdout",
          "text": [
            "Enter a number : 15\n",
            "Enter a number : 12\n",
            "Distance between the points is :  3\n"
          ]
        }
      ]
    },
    {
      "cell_type": "markdown",
      "source": [
        "## Checking whether a number is 2-digit or not"
      ],
      "metadata": {
        "id": "fVZjZ5oyOgVl"
      }
    },
    {
      "cell_type": "code",
      "source": [
        "a=int(input(\"Enter a number : \"))\n",
        "count=0\n",
        "while a>0:\n",
        "  r=a%10\n",
        "  a=a//10\n",
        "  count=count+1\n",
        "if count==2:\n",
        "  print(\"It is a 2 digit number\")\n",
        "else:\n",
        "  print(\"It is not a 2 digit number\")"
      ],
      "metadata": {
        "colab": {
          "base_uri": "https://localhost:8080/"
        },
        "id": "GBeyPX3EONu6",
        "outputId": "af646518-ac30-4dc4-f254-4829dc1cf291"
      },
      "execution_count": null,
      "outputs": [
        {
          "output_type": "stream",
          "name": "stdout",
          "text": [
            "Enter a number : 12\n",
            "It is a 2 digit number\n"
          ]
        }
      ]
    },
    {
      "cell_type": "markdown",
      "source": [
        "## Check a number is -ve,+ve, or zero"
      ],
      "metadata": {
        "id": "UUJBOTKpUx1D"
      }
    },
    {
      "cell_type": "code",
      "source": [
        "a=int(input(\"Enter a number : \"))\n",
        "if a>0:\n",
        "  print(\"The number is a postive\")\n",
        "elif a<0:\n",
        "  print(\"The number is a negative\")\n",
        "else:\n",
        "    print(\"The number is a zero\")\n",
        "\n"
      ],
      "metadata": {
        "colab": {
          "base_uri": "https://localhost:8080/"
        },
        "id": "H_d_5hrqUvib",
        "outputId": "cf52af17-689e-4c0b-c1fc-f9c34169db47"
      },
      "execution_count": null,
      "outputs": [
        {
          "output_type": "stream",
          "name": "stdout",
          "text": [
            "Enter a number : -1\n",
            "The number is a negative\n"
          ]
        }
      ]
    },
    {
      "cell_type": "markdown",
      "source": [
        "## Check whether a number is a multiple of another"
      ],
      "metadata": {
        "id": "Ob-hXWnjZdEG"
      }
    },
    {
      "cell_type": "code",
      "source": [
        "a=int(input(\"Enter a number : \"))\n",
        "b=int(input(\"Enter a number : \"))\n",
        "if b%a==0:\n",
        "  print(b,\"is a multiple of\",a)\n",
        "elif a%b==0:\n",
        "  print(a,\"is a multiple of\",b)\n",
        "else:\n",
        "    print(\"They are not multiple of one another\")"
      ],
      "metadata": {
        "colab": {
          "base_uri": "https://localhost:8080/"
        },
        "id": "ZQB3SiguZXdd",
        "outputId": "8205c7e5-0102-46be-bf94-1da16a041ae3"
      },
      "execution_count": null,
      "outputs": [
        {
          "output_type": "stream",
          "name": "stdout",
          "text": [
            "Enter a number : 3\n",
            "Enter a number : 12\n",
            "12  is a multiple of  3\n"
          ]
        }
      ]
    },
    {
      "cell_type": "markdown",
      "source": [
        "## Smallest digit in a two digit number"
      ],
      "metadata": {
        "id": "4fdJg3BUbMSh"
      }
    },
    {
      "cell_type": "code",
      "source": [
        "a=int(input(\"Enter a 2 digit number : \"))\n",
        "a=str(a)\n",
        "digit=len(a)\n",
        "if digit==2:\n",
        "  a=int(a)\n",
        "  r=a%10\n",
        "  a=a//10\n",
        "  if a>r:\n",
        "    print(r,\"is smaller than\",a)\n",
        "  else:\n",
        "    print(a,\"is smaller than\",r)\n",
        "else:\n",
        "  print(\"NOT A TWO DIGIT NUMBER\")"
      ],
      "metadata": {
        "colab": {
          "base_uri": "https://localhost:8080/"
        },
        "id": "p3yCCwlYbTPo",
        "outputId": "7135b615-64ed-47c3-be47-8e2a3d25d5da"
      },
      "execution_count": null,
      "outputs": [
        {
          "output_type": "stream",
          "name": "stdout",
          "text": [
            "Enter a 2 digit number : 123\n",
            "NOT A TWO DIGIT NUMBER\n"
          ]
        }
      ]
    },
    {
      "cell_type": "markdown",
      "source": [
        "# Nature of solution of a quadratic equation"
      ],
      "metadata": {
        "id": "XGCpRGg8eFlj"
      }
    },
    {
      "cell_type": "code",
      "source": [
        "a=int(input(\"Enter the coefficents of x^2 : \"))\n",
        "b=int(input(\"Enter the coefficents of x : \"))\n",
        "c=int(input(\"Enter the coefficents of constant : \"))\n",
        "if ((b**2)-4*a*c)==0:\n",
        "  print(\"Same real roots\")\n",
        "elif ((b**2)-(4*a*c))>0:\n",
        "  print(\"Different real roots\")\n",
        "else:\n",
        "  print(\"Roots are imaginary\")"
      ],
      "metadata": {
        "colab": {
          "base_uri": "https://localhost:8080/"
        },
        "id": "jcCn9YnAcpuD",
        "outputId": "2291197c-b43f-48e1-92c6-6c8d98a16491"
      },
      "execution_count": 9,
      "outputs": [
        {
          "output_type": "stream",
          "name": "stdout",
          "text": [
            "Enter the coefficents of x^2 : 1\n",
            "Enter the coefficents of x : 5\n",
            "Enter the coefficents of constant : 6\n",
            "Different real roots\n"
          ]
        }
      ]
    }
  ]
}