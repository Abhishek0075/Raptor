{
  "nbformat": 4,
  "nbformat_minor": 0,
  "metadata": {
    "colab": {
      "name": "Iteration.ipynb",
      "provenance": [],
      "collapsed_sections": []
    },
    "kernelspec": {
      "name": "python3",
      "display_name": "Python 3"
    },
    "language_info": {
      "name": "python"
    }
  },
  "cells": [
    {
      "cell_type": "markdown",
      "source": [
        "# Reverse a number"
      ],
      "metadata": {
        "id": "2vIMx4wWcSly"
      }
    },
    {
      "cell_type": "code",
      "execution_count": null,
      "metadata": {
        "colab": {
          "base_uri": "https://localhost:8080/"
        },
        "id": "1Gqf9WVdb5Q1",
        "outputId": "c552f9a8-a665-414e-c2c1-cac180720c4f"
      },
      "outputs": [
        {
          "output_type": "stream",
          "name": "stdout",
          "text": [
            "Enter a number : 1234\n",
            "Reverse =  4321\n"
          ]
        }
      ],
      "source": [
        "a=int(input(\"Enter a number : \"))\n",
        "reverse=0\n",
        "while a>0:\n",
        "  r=a%10\n",
        "  a=a//10\n",
        "  reverse=reverse*10+r\n",
        "print(\"Reverse = \",reverse)"
      ]
    },
    {
      "cell_type": "markdown",
      "source": [
        "## Sum of first n natural numbers"
      ],
      "metadata": {
        "id": "Jdf6WMC9d1xC"
      }
    },
    {
      "cell_type": "code",
      "source": [
        "n=int(input(\"Enter the nth number : \"))\n",
        "sum=0\n",
        "for i in range(n+1):\n",
        "  sum=sum+i\n",
        "print(\"Sum of\",n,\"numbers = \",sum)"
      ],
      "metadata": {
        "colab": {
          "base_uri": "https://localhost:8080/"
        },
        "id": "Az3mY3Wdd7yN",
        "outputId": "87992629-cec6-4888-ae8a-0d1a72dab27d"
      },
      "execution_count": null,
      "outputs": [
        {
          "output_type": "stream",
          "name": "stdout",
          "text": [
            "Enter the nth number9\n",
            "Sum of 9 numbers =  45\n"
          ]
        }
      ]
    },
    {
      "cell_type": "markdown",
      "source": [
        "## Sum of factors of a number"
      ],
      "metadata": {
        "id": "85KafVVNeaxC"
      }
    },
    {
      "cell_type": "code",
      "source": [
        "a=int(input(\"Enter a number : \"))\n",
        "sum=0\n",
        "i=2\n",
        "while i<=a:\n",
        "  if a%i==0:\n",
        "    sum=sum+i\n",
        "    i=i+1\n",
        "  else:\n",
        "    i=i+1\n",
        "print(\"Sum of factors = \",sum)"
      ],
      "metadata": {
        "colab": {
          "base_uri": "https://localhost:8080/"
        },
        "id": "-Y0Jy2Nyeh3X",
        "outputId": "875bbe3c-e3f0-4894-f847-1b29a0e28ce3"
      },
      "execution_count": null,
      "outputs": [
        {
          "output_type": "stream",
          "name": "stdout",
          "text": [
            "Enter a number : 12\n",
            "Sum of factors =  27\n"
          ]
        }
      ]
    },
    {
      "cell_type": "markdown",
      "source": [
        "### Sum of n numbers of an arithematic sequence"
      ],
      "metadata": {
        "id": "e039fTl2gkbH"
      }
    },
    {
      "cell_type": "code",
      "source": [
        "n=int(input(\"Enter the number of numbers needed : \"))\n",
        "sum=0\n",
        "for i in range(n+1):\n",
        "  sum=sum+(2*i)\n",
        "print(\"Sum = \",sum)"
      ],
      "metadata": {
        "colab": {
          "base_uri": "https://localhost:8080/"
        },
        "id": "uR59OI7vgxni",
        "outputId": "a11294ce-c145-46c6-e74f-231e96251bef"
      },
      "execution_count": null,
      "outputs": [
        {
          "output_type": "stream",
          "name": "stdout",
          "text": [
            "Enter the number of numbers needed : 5\n",
            "Sum =  30\n"
          ]
        }
      ]
    },
    {
      "cell_type": "markdown",
      "source": [
        "## Fibonacci"
      ],
      "metadata": {
        "id": "e4Q3__9hhnII"
      }
    },
    {
      "cell_type": "code",
      "source": [
        "n=int(input(\"Enter the number of numbers needed : \"))\n",
        "num=0\n",
        "i=1\n",
        "t1=0\n",
        "t2=1\n",
        "while i<n:\n",
        "  if (i==1):\n",
        "    print(t1)\n",
        "  elif i==2:\n",
        "    print(t2)\n",
        "  num=t1+t2\n",
        "  print(num)\n",
        "  t1=t2\n",
        "  t2=num\n",
        "  i=i+1\n"
      ],
      "metadata": {
        "colab": {
          "base_uri": "https://localhost:8080/"
        },
        "id": "RpzU1S6Yh3jQ",
        "outputId": "0b2a7462-fe14-4537-df28-59d77ff325bf"
      },
      "execution_count": null,
      "outputs": [
        {
          "output_type": "stream",
          "name": "stdout",
          "text": [
            "Enter the number of numbers needed : 4\n",
            "0\n",
            "1\n",
            "1\n",
            "2\n",
            "3\n"
          ]
        }
      ]
    },
    {
      "cell_type": "markdown",
      "source": [
        "## Palindrome"
      ],
      "metadata": {
        "id": "sa4hNW_KjAf2"
      }
    },
    {
      "cell_type": "code",
      "source": [
        "num=int(input(\"Enter a nummber : \"))\n",
        "t=num\n",
        "reverse=0\n",
        "while num>0:\n",
        "  r=num%10\n",
        "  num=num//10\n",
        "  reverse=reverse*10+r\n",
        "if reverse==t:\n",
        "  print(\"The number is a palindrome\")\n",
        "else:\n",
        "  print(\"The number is not a palindrome\")"
      ],
      "metadata": {
        "colab": {
          "base_uri": "https://localhost:8080/"
        },
        "id": "tgc01nt_jLb9",
        "outputId": "ef644355-0f40-4abc-92af-73a8e470e4b2"
      },
      "execution_count": null,
      "outputs": [
        {
          "output_type": "stream",
          "name": "stdout",
          "text": [
            "Enter a nummber : 121\n",
            "The number is a palindrome\n"
          ]
        }
      ]
    },
    {
      "cell_type": "markdown",
      "source": [
        "## Armstrong number"
      ],
      "metadata": {
        "id": "5EfbtAjzkc7u"
      }
    },
    {
      "cell_type": "code",
      "source": [
        "num=int(input(\"Enter a number : \"))\n",
        "temp1=num\n",
        "temp=num\n",
        "sum=0\n",
        "count=0\n",
        "while num>0:\n",
        "  num=num//10\n",
        "  count=count+1\n",
        "while temp>0:\n",
        "  r=temp%10\n",
        "  temp=temp//10\n",
        "  sum=r**count+sum\n",
        "if temp1==sum:\n",
        "  print(\"The number is an Armtrong number\")\n",
        "else:\n",
        "  print(\"The number is not an Armtrong number\")\n"
      ],
      "metadata": {
        "colab": {
          "base_uri": "https://localhost:8080/"
        },
        "id": "ANEJqsGrkyxi",
        "outputId": "d9fb23f7-791b-4345-949c-b92ad3c333ad"
      },
      "execution_count": null,
      "outputs": [
        {
          "output_type": "stream",
          "name": "stdout",
          "text": [
            "Enter a number : 407\n",
            "The number is an Armtrong number\n"
          ]
        }
      ]
    },
    {
      "cell_type": "markdown",
      "source": [
        "### x^n"
      ],
      "metadata": {
        "id": "keo_eerCpQh6"
      }
    },
    {
      "cell_type": "code",
      "source": [
        "a=int(input(\"Enter x : \"))\n",
        "b=int(input(\"Enter n : \"))\n",
        "for i in range(n+1):\n",
        "  value=a**i\n",
        "  print(value,end=\",\")"
      ],
      "metadata": {
        "colab": {
          "base_uri": "https://localhost:8080/"
        },
        "id": "VOQnJ3VepWRB",
        "outputId": "41f95158-696b-4807-f91f-386c7c901a5f"
      },
      "execution_count": null,
      "outputs": [
        {
          "output_type": "stream",
          "name": "stdout",
          "text": [
            "Enter x : 5\n",
            "Enter n : 4\n",
            "1,5,25,125,625,"
          ]
        }
      ]
    },
    {
      "cell_type": "markdown",
      "source": [
        "# First n odd numbers"
      ],
      "metadata": {
        "id": "v8sImpQ2P13V"
      }
    },
    {
      "cell_type": "code",
      "source": [
        "n=int(input(\"Enter the number of numbers needed : \"))\n",
        "for i in range(n+1):\n",
        "  print((2*i+1),end=\", \")"
      ],
      "metadata": {
        "colab": {
          "base_uri": "https://localhost:8080/"
        },
        "id": "dVL5CFzEP6bN",
        "outputId": "cbb15f28-3faa-4350-b20a-46133e2d7985"
      },
      "execution_count": null,
      "outputs": [
        {
          "output_type": "stream",
          "name": "stdout",
          "text": [
            "Enter the number of numbers needed : 5\n",
            "1, 3, 5, 7, 9, 11, "
          ]
        }
      ]
    },
    {
      "cell_type": "markdown",
      "source": [
        "## GCD of two numbers"
      ],
      "metadata": {
        "id": "6SJDuBGFR-ZB"
      }
    },
    {
      "cell_type": "code",
      "source": [
        "a=int(input(\"Enter a number : \"))\n",
        "b=int(input(\"Enter a number : \"))\n",
        "if a>b:\n",
        "  while b>0:\n",
        "    r=a%b\n",
        "    a=b\n",
        "    b=r\n",
        "  print(\"GCD = \",a)\n",
        "else:\n",
        "  while a>0:\n",
        "    r=b%a\n",
        "    b=a\n",
        "    a=r\n",
        "  print(\"GCD = \",b)\n"
      ],
      "metadata": {
        "colab": {
          "base_uri": "https://localhost:8080/"
        },
        "id": "HrwcXD_rSJPP",
        "outputId": "16e2549b-de5b-4dd8-8489-9e957d3cd3e5"
      },
      "execution_count": null,
      "outputs": [
        {
          "output_type": "stream",
          "name": "stdout",
          "text": [
            "Enter a number : 15\n",
            "Enter a number : 2\n",
            "GCD =  1\n"
          ]
        }
      ]
    },
    {
      "cell_type": "markdown",
      "source": [
        "## Factorial"
      ],
      "metadata": {
        "id": "VBMe6bcBTwKW"
      }
    },
    {
      "cell_type": "code",
      "source": [
        "num=int(input(\"Enter a number : \"))\n",
        "res=1\n",
        "i=1\n",
        "while i<=num:\n",
        "  res=res*i\n",
        "  i=i+1\n",
        "print(\"Factorial = \",res)"
      ],
      "metadata": {
        "colab": {
          "base_uri": "https://localhost:8080/"
        },
        "id": "M5nQ-mMSTzD_",
        "outputId": "88749f72-e40c-4ec4-dc90-abdf011bbd9e"
      },
      "execution_count": null,
      "outputs": [
        {
          "output_type": "stream",
          "name": "stdout",
          "text": [
            "Enter a number : 5\n",
            "Factorial =  120\n",
            "Enter a number : 6\n",
            "Factorial =  720\n"
          ]
        }
      ]
    },
    {
      "cell_type": "markdown",
      "source": [
        "## Squares of numbers in a range"
      ],
      "metadata": {
        "id": "weBKh6SeU1B_"
      }
    },
    {
      "cell_type": "code",
      "source": [
        "a=int(input(\"Enter the lowest number : \"))\n",
        "b=int(input(\"Enter the highest number : \"))\n",
        "while a<=b:\n",
        "  sqr=a**2\n",
        "  print(sqr,end=\" \")\n",
        "  a=a+1"
      ],
      "metadata": {
        "colab": {
          "base_uri": "https://localhost:8080/"
        },
        "id": "Ip-I6pLaU-Rq",
        "outputId": "c69bb7a7-582e-43a2-e4b2-d47fd6f3c676"
      },
      "execution_count": null,
      "outputs": [
        {
          "output_type": "stream",
          "name": "stdout",
          "text": [
            "Enter the lowest number : 2\n",
            "Enter the highest number : 6\n",
            "4 9 16 25 36 "
          ]
        }
      ]
    },
    {
      "cell_type": "markdown",
      "source": [
        "## 1-4+9-16..."
      ],
      "metadata": {
        "id": "jkq6_hvUVn50"
      }
    },
    {
      "cell_type": "code",
      "source": [
        "n=int(input(\"Enter final number : \"))\n",
        "sum=0\n",
        "i=1\n",
        "while i<=n:\n",
        "  if i%2==0:\n",
        "    sum=sum-(i**2)\n",
        "  else:\n",
        "    sum=sum+(i**2)\n",
        "  i=i+1\n",
        "print(\"Sum = \",sum)"
      ],
      "metadata": {
        "colab": {
          "base_uri": "https://localhost:8080/"
        },
        "id": "ZzbCvPrDV7nj",
        "outputId": "5ebd1e90-1a36-469b-f9b8-1ef15d17c46d"
      },
      "execution_count": null,
      "outputs": [
        {
          "output_type": "stream",
          "name": "stdout",
          "text": [
            "Enter final number : 5\n",
            "Sum =  15\n"
          ]
        }
      ]
    },
    {
      "cell_type": "markdown",
      "source": [
        "## Automorphic"
      ],
      "metadata": {
        "id": "9ZijtbUcXEos"
      }
    },
    {
      "cell_type": "code",
      "source": [
        "num=int(input(\"Enter a number : \"))\n",
        "square=num**2\n",
        "sum1=0\n",
        "sum=0\n",
        "count=0\n",
        "while count<2:\n",
        "  r=square%10\n",
        "  sum=r+sum*10\n",
        "  square=square//10\n",
        "  count=count+1\n",
        "while sum>0:\n",
        "  r=sum%10\n",
        "  sum=sum//10\n",
        "  sum1=sum1*10+r\n",
        "if sum1==num:\n",
        "  print(\"The number is an automorphic number\")\n",
        "else:\n",
        "  print(\"The number is not an automorphic number\")"
      ],
      "metadata": {
        "colab": {
          "base_uri": "https://localhost:8080/"
        },
        "id": "ZNqX9GESXHvJ",
        "outputId": "2ed15845-fca8-41a3-ac5a-ec2950d43224"
      },
      "execution_count": null,
      "outputs": [
        {
          "output_type": "stream",
          "name": "stdout",
          "text": [
            "Enter a number : 25\n",
            "The number is an automorphic number\n"
          ]
        }
      ]
    },
    {
      "cell_type": "markdown",
      "source": [
        "## Binary"
      ],
      "metadata": {
        "id": "fhKKkeI8oAXn"
      }
    },
    {
      "cell_type": "code",
      "source": [
        "a=int(input(\"Enter a number : \"))\n",
        "sum=0\n",
        "s=0\n",
        "count=0\n",
        "count1=0\n",
        "while count<10:\n",
        "  rem=a%2\n",
        "  sum=sum*10+rem\n",
        "  a=a//2\n",
        "  count=count+1\n",
        "while count1<10:\n",
        "  r=sum%10\n",
        "  s=s*10+r\n",
        "  sum=sum//10\n",
        "  count1=count1+1\n",
        "print(\"Binary = \",s)\n"
      ],
      "metadata": {
        "colab": {
          "base_uri": "https://localhost:8080/"
        },
        "id": "peNbDHVdoCUM",
        "outputId": "ee873887-f606-47ba-b770-9b8e0d86efee"
      },
      "execution_count": null,
      "outputs": [
        {
          "output_type": "stream",
          "name": "stdout",
          "text": [
            "Enter a number : 4\n",
            "Binary =  100\n"
          ]
        }
      ]
    }
  ]
}