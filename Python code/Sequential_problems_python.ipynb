{
  "nbformat": 4,
  "nbformat_minor": 0,
  "metadata": {
    "colab": {
      "name": "Sequential problems python.ipynb",
      "provenance": [],
      "collapsed_sections": [],
      "authorship_tag": "ABX9TyNLu0l14XFzYWzdpdLVwJuB",
      "include_colab_link": true
    },
    "kernelspec": {
      "name": "python3",
      "display_name": "Python 3"
    },
    "language_info": {
      "name": "python"
    }
  },
  "cells": [
    {
      "cell_type": "markdown",
      "metadata": {
        "id": "view-in-github",
        "colab_type": "text"
      },
      "source": [
        "<a href=\"https://colab.research.google.com/github/Abhishek0075/Raptor/blob/main/Sequential_problems_python.ipynb\" target=\"_parent\"><img src=\"https://colab.research.google.com/assets/colab-badge.svg\" alt=\"Open In Colab\"/></a>"
      ]
    },
    {
      "cell_type": "markdown",
      "source": [
        "***1 . Average of 3 numbers***"
      ],
      "metadata": {
        "id": "xmMZTqKiVDOR"
      }
    },
    {
      "cell_type": "code",
      "execution_count": null,
      "metadata": {
        "colab": {
          "base_uri": "https://localhost:8080/"
        },
        "id": "FES4EHlBUk7Y",
        "outputId": "28000ea8-b7c6-4d37-d979-eece8c49cde2"
      },
      "outputs": [
        {
          "output_type": "stream",
          "name": "stdout",
          "text": [
            "Enter a number : 12\n",
            "Enter a number : 3\n",
            "Enter a  number : 4\n",
            "Average =  6.333333333333333\n"
          ]
        }
      ],
      "source": [
        "num1=int(input(\"Enter a number : \"))\n",
        "num2=int(input(\"Enter a number : \"))\n",
        "num3=int(input(\"Enter a  number : \"))\n",
        "sum=num1+num2+num3\n",
        "average=sum/3\n",
        "print(\"Average = \",+average)"
      ]
    },
    {
      "cell_type": "markdown",
      "source": [
        "***2 . Sum and average of 3 numbers***"
      ],
      "metadata": {
        "id": "NWyBWkLxVBX1"
      }
    },
    {
      "cell_type": "code",
      "source": [
        "num1=int(input(\"Enter a number : \"))\n",
        "num2=int(input(\"Enter a number : \"))\n",
        "num3=int(input(\"Enter a  number : \"))\n",
        "sum=num1+num2+num3\n",
        "average=sum/3\n",
        "print(\"Sum = \",+sum)\n",
        "print(\"Average = \",+average)"
      ],
      "metadata": {
        "colab": {
          "base_uri": "https://localhost:8080/"
        },
        "id": "ndS6uaLMXnov",
        "outputId": "358a6756-8d57-4174-e130-8017e0b41436"
      },
      "execution_count": null,
      "outputs": [
        {
          "output_type": "stream",
          "name": "stdout",
          "text": [
            "Enter a number : 12\n",
            "Enter a number : 35\n",
            "Enter a  number : 66\n",
            "Sum =  113\n",
            "Average =  37.666666666666664\n"
          ]
        }
      ]
    },
    {
      "cell_type": "markdown",
      "source": [
        "***3 . Time***"
      ],
      "metadata": {
        "id": "zYvkh3p56DMk"
      }
    },
    {
      "cell_type": "code",
      "source": [
        "sec=int(input(\"Enter seconds : \"))\n",
        "min=sec/60\n",
        "hours=min/60\n",
        "print(\"Seconds in minutes : \",+min)\n",
        "print(\"Seconds in hours : \",+hours)"
      ],
      "metadata": {
        "colab": {
          "base_uri": "https://localhost:8080/"
        },
        "id": "DdKiWrs0-EeO",
        "outputId": "af4784b5-e8fb-49c4-a44e-09856427915a"
      },
      "execution_count": null,
      "outputs": [
        {
          "output_type": "stream",
          "name": "stdout",
          "text": [
            "Enter seconds : 60\n",
            "Seconds in minutes :  1.0\n",
            "Seconds in hours :  0.016666666666666666\n"
          ]
        }
      ]
    },
    {
      "cell_type": "markdown",
      "source": [
        "***4 . Area and Perimeter of a triangle***"
      ],
      "metadata": {
        "id": "tRmJN_nW-y0D"
      }
    },
    {
      "cell_type": "code",
      "source": [
        "A=float(input(\"Enter length of first side : \"))\n",
        "B=float(input(\"Enter length of second side : \"))\n",
        "C=float(input(\"Enter length of third side : \"))\n",
        "perimeter=A+B+C\n",
        "s=perimeter/2\n",
        "Area=(s*(s-A)*(s-B)*(s-C))**0.5\n",
        "print(\"Perimeter = \",+perimeter)\n",
        "print(\"Area = \",+Area)\n",
        "\n"
      ],
      "metadata": {
        "colab": {
          "base_uri": "https://localhost:8080/"
        },
        "id": "x5tqO8DY_AW1",
        "outputId": "b6c836c9-5048-4f5a-c03d-7a3239540c71"
      },
      "execution_count": null,
      "outputs": [
        {
          "output_type": "stream",
          "name": "stdout",
          "text": [
            "Enter length of first side : 3\n",
            "Enter length of second side : 3\n",
            "Enter length of third side : 3\n",
            "Perimeter =  9.0\n",
            "Area =  3.897114317029974\n"
          ]
        }
      ]
    },
    {
      "cell_type": "markdown",
      "source": [
        "***5 . Area of Circle***"
      ],
      "metadata": {
        "id": "Bjt3HqG_CoYc"
      }
    },
    {
      "cell_type": "code",
      "source": [
        "import math\n",
        "radius=float(input(\"Enter radius : \"))\n",
        "area=math.pi*(radius**2)\n",
        "print(\"Area of the circle = \",+area)"
      ],
      "metadata": {
        "colab": {
          "base_uri": "https://localhost:8080/"
        },
        "id": "xLzm7MHqDep6",
        "outputId": "1d0915a6-edd7-42a9-ca9d-11c16da5877f"
      },
      "execution_count": null,
      "outputs": [
        {
          "output_type": "stream",
          "name": "stdout",
          "text": [
            "Enter radius : 5\n",
            "Area of the circle =  78.53981633974483\n"
          ]
        }
      ]
    },
    {
      "cell_type": "markdown",
      "source": [
        "***Swapping without temporary variable***"
      ],
      "metadata": {
        "id": "QJf_9X06E6FU"
      }
    },
    {
      "cell_type": "code",
      "source": [
        "a=int(input(\"Enter number A : \"))\n",
        "b=int(input(\"Enter number B : \"))\n",
        "a=a+b\n",
        "b=a-b\n",
        "a=a-b\n",
        "print(\"Number A = \",+a)\n",
        "print(\"Number B = \",+b)\n"
      ],
      "metadata": {
        "colab": {
          "base_uri": "https://localhost:8080/"
        },
        "id": "DLfuKffrFAuX",
        "outputId": "cd17f040-3d64-4cf7-ff80-f617061c6cb0"
      },
      "execution_count": null,
      "outputs": [
        {
          "output_type": "stream",
          "name": "stdout",
          "text": [
            "Enter number A : 10\n",
            "Enter number B : 12\n",
            "Number A =  12\n",
            "Number B =  10\n"
          ]
        }
      ]
    },
    {
      "cell_type": "markdown",
      "source": [
        "***Sum,Difference,Product,Quotient***"
      ],
      "metadata": {
        "id": "NOG8C1_JGEnq"
      }
    },
    {
      "cell_type": "code",
      "source": [
        "a=int(input(\"Enter first number = \"))\n",
        "b=int(input(\"Enter second number = \"))\n",
        "sum= a+b\n",
        "print(\"Sum = \",+sum)\n",
        "diff = a-b\n",
        "print(\"Difference = \",+diff)\n",
        "pro= a*b\n",
        "print(\"Product = \",+pro)\n",
        "quo=a//b\n",
        "print(\"Quotient = \",+quo)\n",
        "rem=a%b\n",
        "print(\"Reminder = \",+rem)"
      ],
      "metadata": {
        "colab": {
          "base_uri": "https://localhost:8080/"
        },
        "id": "9bFUGkwPGNGe",
        "outputId": "0b1b4061-16a1-4d3e-b7e5-a3c400d8d990"
      },
      "execution_count": null,
      "outputs": [
        {
          "output_type": "stream",
          "name": "stdout",
          "text": [
            "Enter first number = 12\n",
            "Enter second number = 10\n",
            "Sum =  22\n",
            "Difference =  2\n",
            "Product =  120\n",
            "Quotient =  1\n",
            "Reminder =  2\n"
          ]
        }
      ]
    },
    {
      "cell_type": "markdown",
      "source": [
        "***Days calculator***"
      ],
      "metadata": {
        "id": "HoEcYoFYHODN"
      }
    },
    {
      "cell_type": "code",
      "source": [
        "days=int(input(\"Enter number of days = \"))\n",
        "months=days/30\n",
        "years=days/365\n",
        "print(\"Number of months = \",+months)\n",
        "print(\"Number of years = \",+years)\n"
      ],
      "metadata": {
        "colab": {
          "base_uri": "https://localhost:8080/"
        },
        "id": "6teULpiFHR_u",
        "outputId": "62e5b0ac-84da-45ed-f75d-83538e9ee09e"
      },
      "execution_count": null,
      "outputs": [
        {
          "output_type": "stream",
          "name": "stdout",
          "text": [
            "Enter number of days = 31\n",
            "Number of months =  1.0333333333333334\n",
            "Number of years =  0.08493150684931507\n"
          ]
        }
      ]
    }
  ]
}